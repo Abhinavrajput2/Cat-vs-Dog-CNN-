{
  "cells": [
    {
      "cell_type": "code",
      "execution_count": 4,
      "metadata": {
        "id": "mozDVPpFkasv"
      },
      "outputs": [],
      "source": [
        "# steps to download datasetv directly from kaggle\n",
        "!mkdir -p ~/.kaggle\n",
        "!cp kaggle.json ~/.kaggle/"
      ]
    },
    {
      "cell_type": "code",
      "execution_count": 5,
      "metadata": {
        "colab": {
          "base_uri": "https://localhost:8080/"
        },
        "id": "e5pbPLkZnj6O",
        "outputId": "289624ee-c4bd-4dd8-8aa7-968105c2a454"
      },
      "outputs": [
        {
          "name": "stdout",
          "output_type": "stream",
          "text": [
            "Warning: Your Kaggle API key is readable by other users on this system! To fix this, you can run 'chmod 600 /root/.kaggle/kaggle.json'\n",
            "Downloading dogs-vs-cats.zip to /content\n",
            " 98% 1.05G/1.06G [00:07<00:00, 273MB/s]\n",
            "100% 1.06G/1.06G [00:07<00:00, 157MB/s]\n"
          ]
        }
      ],
      "source": [
        "!kaggle datasets download -d salader/dogs-vs-cats"
      ]
    },
    {
      "cell_type": "code",
      "execution_count": 6,
      "metadata": {
        "id": "tyf2Sjg-nt7g"
      },
      "outputs": [],
      "source": [
        "# unzip file\n",
        "import zipfile\n",
        "zip_ref = zipfile.ZipFile('/content/dogs-vs-cats.zip', 'r')\n",
        "zip_ref.extractall('/content')\n",
        "zip_ref.close()"
      ]
    },
    {
      "cell_type": "code",
      "execution_count": 7,
      "metadata": {
        "id": "RsUHiwrAoLqV"
      },
      "outputs": [],
      "source": [
        "import tensorflow as tf\n",
        "from tensorflow import keras\n",
        "from keras import Sequential\n",
        "from keras.layers import Dense,Flatten,Conv2D,MaxPooling2D"
      ]
    },
    {
      "cell_type": "code",
      "execution_count": 8,
      "metadata": {
        "colab": {
          "base_uri": "https://localhost:8080/"
        },
        "id": "aR8WscMJpUiW",
        "outputId": "3b36a9ee-d402-46d1-df7a-0e8805f86210"
      },
      "outputs": [
        {
          "name": "stdout",
          "output_type": "stream",
          "text": [
            "Found 20000 files belonging to 2 classes.\n",
            "Found 5000 files belonging to 2 classes.\n"
          ]
        }
      ],
      "source": [
        "#generators\n",
        "train_ds = keras.utils.image_dataset_from_directory(\n",
        "    directory='/content/train',\n",
        "    labels = 'inferred',\n",
        "    label_mode = 'int',\n",
        "    batch_size = 32,\n",
        "    image_size = (256,256)\n",
        ")\n",
        "\n",
        "validation_ds = keras.utils.image_dataset_from_directory(\n",
        "    directory='/content/test',\n",
        "    labels = 'inferred',\n",
        "    label_mode = 'int',\n",
        "    batch_size = 32,\n",
        "    image_size = (256,256)\n",
        ")"
      ]
    },
    {
      "cell_type": "code",
      "execution_count": 9,
      "metadata": {
        "id": "dvPbQVNpqURH"
      },
      "outputs": [],
      "source": [
        "# noramlization(we will covert data into 0 and 1)\n",
        "def process(image,label):\n",
        "  image = tf.cast(image/255. ,tf.float32)\n",
        "  return image,label\n",
        "\n",
        "train_ds = train_ds.map(process)\n",
        "validation_ds = validation_ds.map(process)"
      ]
    },
    {
      "cell_type": "code",
      "execution_count": 10,
      "metadata": {
        "id": "RzUJtJtTsSRI"
      },
      "outputs": [],
      "source": [
        "# create CNN model\n",
        "model = Sequential()\n",
        "\n",
        "# 1st convolution layer\n",
        "model.add(Conv2D(32,kernel_size=(3,3),padding=\"valid\",activation=\"relu\",input_shape=(256,256,3)))\n",
        "model.add(MaxPooling2D(pool_size=(2,2),strides=2,padding=\"valid\"))\n",
        "\n",
        "# 2nd convolution layer\n",
        "model.add(Conv2D(64,kernel_size=(3,3),padding=\"valid\",activation=\"relu\"))\n",
        "model.add(MaxPooling2D(pool_size=(2,2),strides=2,padding=\"valid\"))\n",
        "\n",
        "# 3rd convolution layer\n",
        "model.add(Conv2D(128,kernel_size=(3,3),padding=\"valid\",activation=\"relu\"))\n",
        "model.add(MaxPooling2D(pool_size=(2,2),strides=2,padding=\"valid\"))\n",
        "\n",
        "# faltten output\n",
        "model.add(Flatten())\n",
        "\n",
        "#1st dense layer\n",
        "model.add(Dense(128,activation=\"relu\"))\n",
        "\n",
        "#2nd dense layer\n",
        "model.add(Dense(64,activation=\"relu\"))\n",
        "\n",
        "#3rd dense layer\n",
        "model.add(Dense(1,activation=\"sigmoid\"))"
      ]
    },
    {
      "cell_type": "code",
      "execution_count": 11,
      "metadata": {
        "colab": {
          "base_uri": "https://localhost:8080/"
        },
        "id": "4iL1KdpUwykt",
        "outputId": "96b49d84-79ba-4617-8602-056b06381141"
      },
      "outputs": [
        {
          "name": "stdout",
          "output_type": "stream",
          "text": [
            "Model: \"sequential\"\n",
            "_________________________________________________________________\n",
            " Layer (type)                Output Shape              Param #   \n",
            "=================================================================\n",
            " conv2d (Conv2D)             (None, 254, 254, 32)      896       \n",
            "                                                                 \n",
            " max_pooling2d (MaxPooling2  (None, 127, 127, 32)      0         \n",
            " D)                                                              \n",
            "                                                                 \n",
            " conv2d_1 (Conv2D)           (None, 125, 125, 64)      18496     \n",
            "                                                                 \n",
            " max_pooling2d_1 (MaxPoolin  (None, 62, 62, 64)        0         \n",
            " g2D)                                                            \n",
            "                                                                 \n",
            " conv2d_2 (Conv2D)           (None, 60, 60, 128)       73856     \n",
            "                                                                 \n",
            " max_pooling2d_2 (MaxPoolin  (None, 30, 30, 128)       0         \n",
            " g2D)                                                            \n",
            "                                                                 \n",
            " flatten (Flatten)           (None, 115200)            0         \n",
            "                                                                 \n",
            " dense (Dense)               (None, 128)               14745728  \n",
            "                                                                 \n",
            " dense_1 (Dense)             (None, 64)                8256      \n",
            "                                                                 \n",
            " dense_2 (Dense)             (None, 1)                 65        \n",
            "                                                                 \n",
            "=================================================================\n",
            "Total params: 14847297 (56.64 MB)\n",
            "Trainable params: 14847297 (56.64 MB)\n",
            "Non-trainable params: 0 (0.00 Byte)\n",
            "_________________________________________________________________\n"
          ]
        }
      ],
      "source": [
        "model.summary()"
      ]
    },
    {
      "cell_type": "code",
      "execution_count": 12,
      "metadata": {
        "id": "Ej35Qgmyw72w"
      },
      "outputs": [],
      "source": [
        "model.compile(optimizer=\"adam\",loss=\"binary_crossentropy\",metrics=[\"accuracy\"])"
      ]
    },
    {
      "cell_type": "code",
      "execution_count": 13,
      "metadata": {
        "colab": {
          "base_uri": "https://localhost:8080/"
        },
        "id": "y45GWGAJxMJw",
        "outputId": "d03ed435-3241-44c5-b5b4-917225c7d167"
      },
      "outputs": [
        {
          "name": "stdout",
          "output_type": "stream",
          "text": [
            "Epoch 1/10\n",
            "625/625 [==============================] - 58s 81ms/step - loss: 0.6309 - accuracy: 0.6545 - val_loss: 0.5174 - val_accuracy: 0.7510\n",
            "Epoch 2/10\n",
            "625/625 [==============================] - 54s 86ms/step - loss: 0.4857 - accuracy: 0.7655 - val_loss: 0.4686 - val_accuracy: 0.7842\n",
            "Epoch 3/10\n",
            "625/625 [==============================] - 50s 80ms/step - loss: 0.3667 - accuracy: 0.8373 - val_loss: 0.4935 - val_accuracy: 0.7782\n",
            "Epoch 4/10\n",
            "625/625 [==============================] - 74s 117ms/step - loss: 0.2243 - accuracy: 0.9065 - val_loss: 0.5629 - val_accuracy: 0.7904\n",
            "Epoch 5/10\n",
            "625/625 [==============================] - 62s 98ms/step - loss: 0.1214 - accuracy: 0.9545 - val_loss: 0.8589 - val_accuracy: 0.7778\n",
            "Epoch 6/10\n",
            "625/625 [==============================] - 51s 81ms/step - loss: 0.0806 - accuracy: 0.9711 - val_loss: 0.9437 - val_accuracy: 0.7862\n",
            "Epoch 7/10\n",
            "625/625 [==============================] - 55s 88ms/step - loss: 0.0577 - accuracy: 0.9818 - val_loss: 1.0969 - val_accuracy: 0.7762\n",
            "Epoch 8/10\n",
            "625/625 [==============================] - 52s 82ms/step - loss: 0.0498 - accuracy: 0.9847 - val_loss: 1.2673 - val_accuracy: 0.7782\n",
            "Epoch 9/10\n",
            "625/625 [==============================] - 54s 86ms/step - loss: 0.0374 - accuracy: 0.9884 - val_loss: 1.2859 - val_accuracy: 0.7860\n",
            "Epoch 10/10\n",
            "625/625 [==============================] - 54s 86ms/step - loss: 0.0294 - accuracy: 0.9911 - val_loss: 1.2709 - val_accuracy: 0.7700\n"
          ]
        }
      ],
      "source": [
        "history = model.fit(train_ds,epochs=10,validation_data=validation_ds)"
      ]
    },
    {
      "cell_type": "code",
      "execution_count": 14,
      "metadata": {
        "colab": {
          "base_uri": "https://localhost:8080/",
          "height": 430
        },
        "id": "9urWlDG_xVnR",
        "outputId": "9ce3a64c-4a81-4e2e-c435-14151e3bed9f"
      },
      "outputs": [
        {
          "data": {
            "image/png": "[encoded data removed]",
            "text/plain": [
              "<Figure size 640x480 with 1 Axes>"
            ]
          },
          "metadata": {},
          "output_type": "display_data"
        }
      ],
      "source": [
        "import matplotlib.pyplot as plt\n",
        "plt.plot(history.history[\"val_accuracy\"],color=\"red\",label=\"validation\")\n",
        "plt.plot(history.history[\"accuracy\"],color=\"green\",label=\"train\")\n",
        "\n",
        "plt.legend()\n",
        "plt.show()"
      ]
    },
    {
      "cell_type": "code",
      "execution_count": null,
      "metadata": {
        "id": "Jpfw3U-M03TQ"
      },
      "outputs": [],
      "source": []
    }
  ],
  "metadata": {
    "accelerator": "GPU",
    "colab": {
      "gpuType": "T4",
      "provenance": []
    },
    "kernelspec": {
      "display_name": "Python 3",
      "name": "python3"
    },
    "language_info": {
      "name": "python"
    }
  },
  "nbformat": 4,
  "nbformat_minor": 0
}
